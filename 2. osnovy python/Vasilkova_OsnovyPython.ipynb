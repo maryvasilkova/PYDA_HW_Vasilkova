{
 "cells": [
  {
   "cell_type": "code",
   "execution_count": 1,
   "metadata": {},
   "outputs": [
    {
     "data": {
      "text/plain": [
       "True"
      ]
     },
     "execution_count": 1,
     "metadata": {},
     "output_type": "execute_result"
    }
   ],
   "source": [
    "#Задание 1. Даны 2 строки: long_phrase и short_phrase.\n",
    "#Напишите код, который проверяет действительно ли длинная фраза long_phrase длиннее короткой short_phrase. \n",
    "#И выводит True или False в зависимости от результата сравнения.\n",
    "long_phrase = 'Насколько проще было бы писать программы, если бы не заказчики'\n",
    "short_phrase = '640Кб должно хватить для любых задач. Билл Гейтс (по легенде)'\n",
    "len(long_phrase) > len(short_phrase)"
   ]
  },
  {
   "cell_type": "code",
   "execution_count": 5,
   "metadata": {},
   "outputs": [
    {
     "name": "stdout",
     "output_type": "stream",
     "text": [
      "Введите размер файла в байтах 1048576\n",
      "Объем файл равен  1.0 Mb\n"
     ]
    }
   ],
   "source": [
    "#Задание 2. Дано значение объема файла в байтах (в мегабайте 2^20 байт).\n",
    "#Напишите перевод этого значения в мегабайты в формате: \"Объем файла равен 213.68Mb\".\n",
    "file_size_b = int(input('Введите размер файла в байтах '))\n",
    "file_size_mb = file_size_b / (2**20)\n",
    "print('Объем файл равен ', file_size_mb, 'Mb')"
   ]
  },
  {
   "cell_type": "code",
   "execution_count": 7,
   "metadata": {},
   "outputs": [
    {
     "name": "stdout",
     "output_type": "stream",
     "text": [
      "Введите месяц: март\n",
      "Введите число: 6\n",
      "Вывод: Рыбы\n"
     ]
    }
   ],
   "source": [
    "#Задание 3. Разработать приложение для определения знака зодиака по дате рождения.\n",
    "\n",
    "month = input('Введите месяц: ')\n",
    "day = int(input('Введите число: '))\n",
    "if month == 'январь':\n",
    "    if day <= 20:\n",
    "        print('Вывод: Козерог')\n",
    "    else: \n",
    "        print('Вывод: Водолей')\n",
    "elif month == 'февраль':\n",
    "    if day <= 18:\n",
    "        print('Вывод: Водолей')\n",
    "    else:\n",
    "        print('Вывод: Рыбы')\n",
    "elif month == 'март':\n",
    "    if day <= 20:\n",
    "        print('Вывод: Рыбы')\n",
    "    else:\n",
    "        print('Вывод: Овен')\n",
    "elif month == 'апрель':\n",
    "    if day <= 19:\n",
    "        print('Вывод: Овен')\n",
    "    else:\n",
    "        print('Вывод: Телец')\n",
    "elif month == 'май':\n",
    "    if day <= 20:\n",
    "        print('Вывод: Телец')\n",
    "    else:\n",
    "        print('Вывод: Близнецы')\n",
    "elif month == 'июнь':\n",
    "    if day <= 21:\n",
    "        print('Вывод: Близнецы')\n",
    "    else:\n",
    "        print('Вывод: Рак')\n",
    "elif month == 'июль':\n",
    "    if day <= 22:\n",
    "        print('Вывод: Рак')\n",
    "    else:\n",
    "        print('Вывод: Лев')\n",
    "elif month == 'август':\n",
    "    if day <= 22:\n",
    "        print('Вывод: Лев')\n",
    "    else:\n",
    "        print('Вывод: Дева')\n",
    "elif month == 'сентябрь':\n",
    "    if day <= 22:\n",
    "        print('Вывод: Дева')\n",
    "    else:\n",
    "        print('Вывод: Весы')\n",
    "elif month == 'октябрь':\n",
    "    if day <= 23:\n",
    "        print('Вывод: Весы')\n",
    "    else:\n",
    "        print('Вывод: Скорпион')\n",
    "elif month == 'ноябрь':\n",
    "    if day <= 22:\n",
    "        print('Вывод: Скорпион')\n",
    "    else:\n",
    "        print('Вывод: Стрелец')\n",
    "elif month == 'декабрь':\n",
    "    if day <= 21:\n",
    "        print('Вывод: Стрелец')\n",
    "    else:\n",
    "        print('Вывод: Козерог')          "
   ]
  },
  {
   "cell_type": "code",
   "execution_count": 4,
   "metadata": {},
   "outputs": [
    {
     "name": "stdout",
     "output_type": "stream",
     "text": [
      "Введите заработанную плату в месяц: 100\n",
      "Введите сколько процентов уходит на ипотеку: 30\n",
      "Введите сколько процентов уходит на жизнь: 50\n",
      "Введите количество премий за год: 2\n",
      "Вывод: На ипотеку было потрачено:  360.0 рублей Было накоплено:  340.0  рублей\n"
     ]
    }
   ],
   "source": [
    "#Задание 4. Нужно разработать приложение для финансового планирования. \n",
    "#Приложение учитывает сколько уходит на ипотеку, \"на жизнь\" и сколько нужно отложить на пенсию.\n",
    "\n",
    "            \n",
    "monthly_income = int(input('Введите заработанную плату в месяц: '))\n",
    "mortgage_perc = int(input('Введите сколько процентов уходит на ипотеку: '))\n",
    "expenses_perc = int(input('Введите сколько процентов уходит на жизнь: '))\n",
    "bonus_number = int(input('Введите количество премий за год: '))\n",
    "\n",
    "income = monthly_income * 12\n",
    "mortgage = income * mortgage_perc / 100\n",
    "expenses = income * expenses_perc / 100\n",
    "bonus = monthly_income * bonus_number\n",
    "vacation = bonus / 2\n",
    "pension_balance = income - mortgage - expenses + bonus - vacation\n",
    "\n",
    "print('Вывод: На ипотеку было потрачено: ', mortgage, 'рублей Было накоплено: ',pension_balance,' рублей')"
   ]
  },
  {
   "cell_type": "code",
   "execution_count": null,
   "metadata": {},
   "outputs": [],
   "source": []
  }
 ],
 "metadata": {
  "kernelspec": {
   "display_name": "Python 3",
   "language": "python",
   "name": "python3"
  },
  "language_info": {
   "codemirror_mode": {
    "name": "ipython",
    "version": 3
   },
   "file_extension": ".py",
   "mimetype": "text/x-python",
   "name": "python",
   "nbconvert_exporter": "python",
   "pygments_lexer": "ipython3",
   "version": "3.7.6"
  }
 },
 "nbformat": 4,
 "nbformat_minor": 4
}
